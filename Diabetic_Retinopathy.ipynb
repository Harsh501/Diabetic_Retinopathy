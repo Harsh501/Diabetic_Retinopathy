{
  "nbformat": 4,
  "nbformat_minor": 0,
  "metadata": {
    "colab": {
      "name": "Diabetic_Retinopathy.ipynb",
      "provenance": [],
      "collapsed_sections": []
    },
    "kernelspec": {
      "name": "python3",
      "display_name": "Python 3"
    },
    "accelerator": "GPU"
  },
  "cells": [
    {
      "cell_type": "code",
      "metadata": {
        "id": "u9-IqzcQdlfN",
        "colab_type": "code",
        "colab": {}
      },
      "source": [
        "# from google.colab import drive\n",
        "# drive.mount('/content/drive')"
      ],
      "execution_count": 0,
      "outputs": []
    },
    {
      "cell_type": "code",
      "metadata": {
        "id": "KXlNcGQkdoAx",
        "colab_type": "code",
        "colab": {}
      },
      "source": [
        "# cd drive/My Drive/project2"
      ],
      "execution_count": 0,
      "outputs": []
    },
    {
      "cell_type": "code",
      "metadata": {
        "id": "wPivfgcBvnMK",
        "colab_type": "code",
        "colab": {}
      },
      "source": [
        ""
      ],
      "execution_count": 0,
      "outputs": []
    },
    {
      "cell_type": "markdown",
      "metadata": {
        "id": "ds-DuOyRC_ul",
        "colab_type": "text"
      },
      "source": [
        "<b>References:</b> \\\\\n",
        "https://github.com/tmabraham/retinopathy-classifier \\\\\n",
        "https://github.com/cauchyturing/kaggle_diabetic_RAM \\\\\n",
        "https://becominghuman.ai/data-augmentation-on-gpu-in-tensorflow-13d14ecf2b19 \\\\\n",
        "https://www.kaggle.com/meenavyas/diabetic-retinopathy-detection \\\\\n",
        "https://www.kaggle.com/kmader/inceptionv3-for-retinopathy-gpu-hr \\\\\n",
        "https://www.kaggle.com/bhargavbhatt/project-work \\\\\n",
        "\n",
        "\n",
        "\n"
      ]
    },
    {
      "cell_type": "code",
      "metadata": {
        "id": "GgVh7-F8KOyF",
        "colab_type": "code",
        "colab": {}
      },
      "source": [
        ""
      ],
      "execution_count": 0,
      "outputs": []
    },
    {
      "cell_type": "code",
      "metadata": {
        "id": "MevQabfN4fXC",
        "colab_type": "code",
        "colab": {}
      },
      "source": [
        ""
      ],
      "execution_count": 0,
      "outputs": []
    },
    {
      "cell_type": "code",
      "metadata": {
        "id": "-Y7CFERXHipb",
        "colab_type": "code",
        "colab": {}
      },
      "source": [
        ""
      ],
      "execution_count": 0,
      "outputs": []
    },
    {
      "cell_type": "code",
      "metadata": {
        "id": "BZYB1jagW6GA",
        "colab_type": "code",
        "colab": {}
      },
      "source": [
        ""
      ],
      "execution_count": 0,
      "outputs": []
    },
    {
      "cell_type": "markdown",
      "metadata": {
        "id": "9VYvYuoGZDf3",
        "colab_type": "text"
      },
      "source": [
        "##Importing the required Libraries"
      ]
    },
    {
      "cell_type": "code",
      "metadata": {
        "id": "BFcRef9vdtfy",
        "colab_type": "code",
        "colab": {
          "base_uri": "https://localhost:8080/",
          "height": 83
        },
        "outputId": "7ca624bf-1b41-4a1c-b68d-7c00ab76a528"
      },
      "source": [
        "import glob\n",
        "import tensorflow as tf\n",
        "import seaborn as sns  \n",
        "import matplotlib.pyplot as plt\n",
        "import numpy as np \n",
        "import pandas as pd \n",
        "import os\n",
        "from keras import backend as K\n",
        "from pandas import DataFrame\n",
        "from sklearn.model_selection import train_test_split\n",
        "from keras.applications.inception_v3 import preprocess_input\n",
        "from keras.utils.np_utils import to_categorical as One_hot\n",
        "from keras.layers import LeakyReLU, Dense, Dropout, Flatten, Input, Conv2D, Lambda, BatchNormalization, GlobalAveragePooling2D, multiply, LocallyConnected2D,MaxPooling2D\n",
        "from keras.applications.vgg16 import VGG16 as model1\n",
        "from keras.applications.inception_resnet_v2 import InceptionResNetV2 as model2\n",
        "from keras.applications.inception_v3 import InceptionV3 as model3\n",
        "from keras.models import Model\n",
        "\n"
      ],
      "execution_count": 4,
      "outputs": [
        {
          "output_type": "display_data",
          "data": {
            "text/html": [
              "<p style=\"color: red;\">\n",
              "The default version of TensorFlow in Colab will soon switch to TensorFlow 2.x.<br>\n",
              "We recommend you <a href=\"https://www.tensorflow.org/guide/migrate\" target=\"_blank\">upgrade</a> now \n",
              "or ensure your notebook will continue to use TensorFlow 1.x via the <code>%tensorflow_version 1.x</code> magic:\n",
              "<a href=\"https://colab.research.google.com/notebooks/tensorflow_version.ipynb\" target=\"_blank\">more info</a>.</p>\n"
            ],
            "text/plain": [
              "<IPython.core.display.HTML object>"
            ]
          },
          "metadata": {
            "tags": []
          }
        },
        {
          "output_type": "stream",
          "text": [
            "Using TensorFlow backend.\n"
          ],
          "name": "stderr"
        }
      ]
    },
    {
      "cell_type": "code",
      "metadata": {
        "id": "vN_eIAngmcRc",
        "colab_type": "code",
        "colab": {}
      },
      "source": [
        ""
      ],
      "execution_count": 0,
      "outputs": []
    },
    {
      "cell_type": "markdown",
      "metadata": {
        "id": "GNRnd3LZPf2v",
        "colab_type": "text"
      },
      "source": [
        "<h1>Reading the image labels<h1>"
      ]
    },
    {
      "cell_type": "code",
      "metadata": {
        "id": "PX1IR-Q3dvTc",
        "colab_type": "code",
        "colab": {}
      },
      "source": [
        "# reading the training labels csv file which would give us Dataframe consiiting of name of image and the level of DR respectively .\n",
        "df = pd.read_csv('trainLabels.csv.zip')\n",
        "\n",
        "#Splitting the image name by '_' as name is given as for example: \"10_left\" where left is the eye and 10 is the patient ID and storing in ID column\n",
        "df['ID'] = df['image'].str.split(\"_\", n = 0, expand = True)[0]\n",
        "# df['image'].str.split(\"_\", n = 0, expand = True)[1].hist()"
      ],
      "execution_count": 0,
      "outputs": []
    },
    {
      "cell_type": "code",
      "metadata": {
        "id": "-vc0jF6cidqf",
        "colab_type": "code",
        "colab": {}
      },
      "source": [
        ""
      ],
      "execution_count": 0,
      "outputs": []
    },
    {
      "cell_type": "code",
      "metadata": {
        "id": "mF9kfGWLdr6C",
        "colab_type": "code",
        "colab": {}
      },
      "source": [
        ""
      ],
      "execution_count": 0,
      "outputs": []
    },
    {
      "cell_type": "markdown",
      "metadata": {
        "id": "7-iEL55TQ2pn",
        "colab_type": "text"
      },
      "source": [
        "<h2>Looking for images in the train1 folder according to the images label in df['image'] as some of the images may have been corrupted in the process of downloading and unzipping.<h2>\n"
      ]
    },
    {
      "cell_type": "code",
      "metadata": {
        "id": "PDxyrzm7Au5z",
        "colab_type": "code",
        "colab": {}
      },
      "source": [
        ""
      ],
      "execution_count": 0,
      "outputs": []
    },
    {
      "cell_type": "code",
      "metadata": {
        "id": "tvPEatrYv8RI",
        "colab_type": "code",
        "colab": {}
      },
      "source": [
        "df[\"Not corrupted\"]=(\"./input/train1/\"+df['image']+\".jpeg\").map(os.path.isfile)\n",
        "\n",
        "# Only considering the files that are not corrupted\n",
        "df = df[df[\"Not corrupted\"]==True]\n",
        "\n",
        "#Column comprising of all the useful (Not corrupted) images\n",
        "df['path'] = (\"./input/train1/\"+df['image']+\".jpeg\")\n"
      ],
      "execution_count": 0,
      "outputs": []
    },
    {
      "cell_type": "code",
      "metadata": {
        "id": "Z-mJ8Ws-7RbQ",
        "colab_type": "code",
        "colab": {}
      },
      "source": [
        ""
      ],
      "execution_count": 0,
      "outputs": []
    },
    {
      "cell_type": "markdown",
      "metadata": {
        "id": "W6wLGavPR60_",
        "colab_type": "text"
      },
      "source": [
        "Visualizing the number of images according to the levels of DR associated to the them. \\\\\n",
        "As we can see the <b>uneven distribution</b> of number of images for level 0 we might need ot take further sampling measures inorder to generate a dataset with equal distribution of number of images for all levels (0,1,2,3,4)."
      ]
    },
    {
      "cell_type": "code",
      "metadata": {
        "id": "_XtaTjvhyTGH",
        "colab_type": "code",
        "colab": {
          "base_uri": "https://localhost:8080/",
          "height": 266
        },
        "outputId": "1004d310-96dc-48ed-bbfb-7b29364e4a6c"
      },
      "source": [
        "df.level.value_counts().plot(kind='pie',autopct='%.2f')"
      ],
      "execution_count": 7,
      "outputs": [
        {
          "output_type": "execute_result",
          "data": {
            "text/plain": [
              "<matplotlib.axes._subplots.AxesSubplot at 0x7f89846b1390>"
            ]
          },
          "metadata": {
            "tags": []
          },
          "execution_count": 7
        },
        {
          "output_type": "display_data",
          "data": {
            "image/png": "[encoded data removed]",
            "text/plain": [
              "<Figure size 432x288 with 1 Axes>"
            ]
          },
          "metadata": {
            "tags": []
          }
        }
      ]
    },
    {
      "cell_type": "code",
      "metadata": {
        "id": "J0jyA3X2UmD1",
        "colab_type": "code",
        "colab": {}
      },
      "source": [
        ""
      ],
      "execution_count": 0,
      "outputs": []
    },
    {
      "cell_type": "markdown",
      "metadata": {
        "id": "autM7hNaUnC1",
        "colab_type": "text"
      },
      "source": [
        "<b>One Hot encoding </b> of levels (0,1,2,3,4) for all images \\\\\n",
        "Example One Hot encoding : \\\\\n",
        "level : 1 \\\\\n",
        "One Hot representation : [0,1,0,0,0]"
      ]
    },
    {
      "cell_type": "code",
      "metadata": {
        "id": "aVFJH5C-yTD1",
        "colab_type": "code",
        "colab": {
          "base_uri": "https://localhost:8080/",
          "height": 72
        },
        "outputId": "9e1389fb-47f7-40d2-d8e5-70bebb070d21"
      },
      "source": [
        "df['One']=df['level'].map(lambda levels: One_hot(levels, 5))\n",
        "\n",
        "# Checking for any Nan values\n",
        "print(df[df.isna().any(axis=1)])"
      ],
      "execution_count": 7,
      "outputs": [
        {
          "output_type": "stream",
          "text": [
            "Empty DataFrame\n",
            "Columns: [image, level, ID, Not corrupted, path, One]\n",
            "Index: []\n"
          ],
          "name": "stdout"
        }
      ]
    },
    {
      "cell_type": "markdown",
      "metadata": {
        "id": "KHkFr0KdWz73",
        "colab_type": "text"
      },
      "source": [
        "## Setting all the left and right eye Strings to 0 & 1 int.\n",
        "Here left = 1 & right = 0 "
      ]
    },
    {
      "cell_type": "code",
      "metadata": {
        "id": "Y6CpMSx8TtGy",
        "colab_type": "code",
        "colab": {}
      },
      "source": [
        "def check(x):\n",
        "  if(x==\"left\"):\n",
        "    return 1\n",
        "  else:\n",
        "    return 0"
      ],
      "execution_count": 0,
      "outputs": []
    },
    {
      "cell_type": "code",
      "metadata": {
        "id": "BR8IUxNRyTAu",
        "colab_type": "code",
        "colab": {}
      },
      "source": [
        "df['position'] = df['image'].str.split(\"_\", n = 0, expand = True)[1].map(lambda name : check(name))"
      ],
      "execution_count": 0,
      "outputs": []
    },
    {
      "cell_type": "code",
      "metadata": {
        "id": "YVziszQwOf-Q",
        "colab_type": "code",
        "colab": {
          "base_uri": "https://localhost:8080/",
          "height": 266
        },
        "outputId": "8d260852-a6ba-4c1a-86af-69c6f321e822"
      },
      "source": [
        "\n",
        "# Here we can see through the means of a pie diagram , the number of images for left and right eyes are equal\n",
        "# But still the major problem of uneven samples for different levels still exsists, which might influence the accuracy of our model.\n",
        "# fig, axes = plt.subplots(1, 2)\n",
        "df.position.value_counts().plot(kind='pie',autopct='%.2f')\n",
        "# df['position'].hist(ax=axes[0], color='green')\n"
      ],
      "execution_count": 11,
      "outputs": [
        {
          "output_type": "execute_result",
          "data": {
            "text/plain": [
              "<matplotlib.axes._subplots.AxesSubplot at 0x7f8985453a90>"
            ]
          },
          "metadata": {
            "tags": []
          },
          "execution_count": 11
        },
        {
          "output_type": "display_data",
          "data": {
            "image/png": "[encoded data removed]",
            "text/plain": [
              "<Figure size 432x288 with 1 Axes>"
            ]
          },
          "metadata": {
            "tags": []
          }
        }
      ]
    },
    {
      "cell_type": "markdown",
      "metadata": {
        "id": "qB34YnUoaXVr",
        "colab_type": "text"
      },
      "source": [
        "Droppping the duplicates present in the dataframe with ID and level of the patient as a grouped key for looking up for duplicates. \\\\\n"
      ]
    },
    {
      "cell_type": "code",
      "metadata": {
        "id": "kGXW_77lcA4_",
        "colab_type": "code",
        "colab": {}
      },
      "source": [
        "data = DataFrame.drop_duplicates(df[['ID','level']])"
      ],
      "execution_count": 0,
      "outputs": []
    },
    {
      "cell_type": "markdown",
      "metadata": {
        "id": "8oCsL0FjcEEd",
        "colab_type": "text"
      },
      "source": [
        "<h2>Further Splitting the dataset into traning and testing dataframes.</h2>"
      ]
    },
    {
      "cell_type": "code",
      "metadata": {
        "id": "4oCWUdZ6yS8K",
        "colab_type": "code",
        "colab": {}
      },
      "source": [
        "\n",
        "# Here mentionining of stratify parameter states that the level column is the label/output class\n",
        "train, test = train_test_split(data,test_size = 0.20,stratify = data['level'])"
      ],
      "execution_count": 0,
      "outputs": []
    },
    {
      "cell_type": "code",
      "metadata": {
        "id": "YE8jhHIlyS5a",
        "colab_type": "code",
        "colab": {}
      },
      "source": [
        "#Splitting the entire big data frame into train and test frames based on the above statement\n",
        "train_data = df[df['ID'].isin(train['ID'])]\n",
        "test_data = df[df['ID'].isin(test['ID'])]\n"
      ],
      "execution_count": 0,
      "outputs": []
    },
    {
      "cell_type": "markdown",
      "metadata": {
        "id": "hspvzlOtcun7",
        "colab_type": "text"
      },
      "source": [
        "## Sampling the present image data inorder to bring all the image levels at equilibrium with each other."
      ]
    },
    {
      "cell_type": "code",
      "metadata": {
        "id": "k7c0B1edbuzx",
        "colab_type": "code",
        "colab": {}
      },
      "source": [
        "# Here set replace to true as we generate huge number of  samples\n",
        "def sample(instance):\n",
        "  return instance.sample(120 ,replace =True)\n",
        "train_X = train_data.groupby(['level', 'position']).apply(lambda x: sample(x)).reset_index(drop = True)"
      ],
      "execution_count": 0,
      "outputs": []
    },
    {
      "cell_type": "code",
      "metadata": {
        "id": "Ulr87TlTeDle",
        "colab_type": "code",
        "colab": {}
      },
      "source": [
        ""
      ],
      "execution_count": 0,
      "outputs": []
    },
    {
      "cell_type": "code",
      "metadata": {
        "id": "OxRUb4ATYMa6",
        "colab_type": "code",
        "colab": {
          "base_uri": "https://localhost:8080/",
          "height": 283
        },
        "outputId": "adb05fde-5599-436b-d76a-345835126d61"
      },
      "source": [
        "fig, axes = plt.subplots(1, 2)\n",
        "train_X['position'].hist(ax=axes[0],color = 'yellow')\n",
        "\n",
        "# train_X['level'].hist(ax=axes[1])\n",
        "train_X.level.value_counts().plot(kind='pie',autopct='%.2f')"
      ],
      "execution_count": 14,
      "outputs": [
        {
          "output_type": "execute_result",
          "data": {
            "text/plain": [
              "<matplotlib.axes._subplots.AxesSubplot at 0x7fba70461048>"
            ]
          },
          "metadata": {
            "tags": []
          },
          "execution_count": 14
        },
        {
          "output_type": "display_data",
          "data": {
            "image/png": "[encoded data removed]",
            "text/plain": [
              "<Figure size 432x288 with 2 Axes>"
            ]
          },
          "metadata": {
            "tags": []
          }
        }
      ]
    },
    {
      "cell_type": "code",
      "metadata": {
        "id": "ghxbnLZZQr6c",
        "colab_type": "code",
        "colab": {}
      },
      "source": [
        ""
      ],
      "execution_count": 0,
      "outputs": []
    },
    {
      "cell_type": "markdown",
      "metadata": {
        "id": "fhA_PZeXq25_",
        "colab_type": "text"
      },
      "source": [
        "<h1>Functions for decoding, resizing, flipping, cropping, padding and changing of brightness, contrast, hue , saturation of training images<h2> "
      ]
    },
    {
      "cell_type": "code",
      "metadata": {
        "id": "JRCIdwRa1kw4",
        "colab_type": "code",
        "colab": {}
      },
      "source": [
        "\n",
        "#Function for reading and resize the image\n",
        "def decode_and_resize(image,type_image ='rgb'):\n",
        "  \n",
        "  if(type_image=='rgb'):\n",
        "    # print(\"Image is RGB\")\n",
        "    #channels = 3 signifies RGB\n",
        "    # And reshaping image for output size (640,640)\n",
        "    return tf.image.resize_images(tf.image.decode_jpeg(tf.read_file(image), channels = 3),(640,640))\n",
        "  else:\n",
        "    # Channels is set to 0 if image is not RGB\n",
        "    # print(\"Image is  not RGB\")\n",
        "    return tf.image.resize_images(tf.image.decode_png(tf.read_file(image), channels = 0),(640,640))\n",
        "\n",
        "#preprocessing of set of training images\n",
        "def train_image_process(real_image,y):\n",
        "  real_img_data =  decode_and_resize(real_image,type_image='rgb')\n",
        "  real_img_data = tf.image.random_flip_left_right(real_img_data) #Randomly flip an image horizontally\n",
        "  real_img_data = tf.image.random_flip_up_down(real_img_data) #Randomly flips an image vertically \n",
        "  real_img_data = tf.image.random_brightness(real_img_data, max_delta = 0.1) #Changes the brightness of images by a random multiple. max_delta specifies range[-max_delta,max_delta] \n",
        "  real_img_data = tf.image.random_saturation(real_img_data,upper = 1.2,lower = 0.65) #Adjust the saturation of images by a random multiple.\n",
        "  real_img_data = tf.image.random_hue(real_img_data, max_delta = 0.10) #Adjust the hue of images by a random multiple.\n",
        "  real_img_data = tf.image.random_contrast(real_img_data,upper = 1.2, lower = 0.65) #Adjust the contrast of an image by a random multiple.\n",
        "  return preprocess_input(real_img_data),y\n",
        "\n",
        "def image_sculpting(processed_image,y):\n",
        "  # Generating values from random uniform distribution between -10 radians (lower bound) and +10 radians (upper bound)\n",
        "  angle_range = tf.random_uniform([tf.shape(processed_image)[0]], -np.deg2rad(10), np.deg2rad(10))\n",
        "  changes = []\n",
        "  # provides us with projective transform for the given angle for given width=640 and height=640\n",
        "  changes += [tf.contrib.image.angles_to_projective_transforms(angle_range, 640, 640)]\n",
        "  if(len(changes)>=1):\n",
        "    # Applies the given transformations to the image.\n",
        "    processed_image = tf.contrib.image.transform(processed_image,tf.contrib.image.compose_transforms(*changes),interpolation=\"NEAREST\")\n",
        "    # Resizes images to the given height, width by either cropping or padding.\n",
        "  processed_image = tf.image.resize_image_with_crop_or_pad(processed_image, 512, 512)\n",
        "  return processed_image,y\n",
        "\n",
        "\n",
        "#Runs all the above mentioned function on the images\n",
        "def runAll(batch_size = 16):\n",
        "    def stitch(ip):\n",
        "        #Mapping of images to preprocessing and then sculpting function\n",
        "        return (ip.map(train_image_process, num_parallel_calls=4).batch(batch_size)).map(image_sculpting)\n",
        "    return stitch"
      ],
      "execution_count": 0,
      "outputs": []
    },
    {
      "cell_type": "code",
      "metadata": {
        "id": "P4eTavxcvEUO",
        "colab_type": "code",
        "colab": {}
      },
      "source": [
        ""
      ],
      "execution_count": 0,
      "outputs": []
    },
    {
      "cell_type": "code",
      "metadata": {
        "id": "Mt-o7mI2FGwS",
        "colab_type": "code",
        "colab": {}
      },
      "source": [
        ""
      ],
      "execution_count": 0,
      "outputs": []
    },
    {
      "cell_type": "code",
      "metadata": {
        "id": "Eqt3ztfa1lGV",
        "colab_type": "code",
        "colab": {}
      },
      "source": [
        "#Validation/Testing images loader\n",
        "def val_image_preproc(X,y):\n",
        "  return preprocess_input(decode_and_resize(X)),y\n",
        "\n",
        "#Runs all the desired functions on the validation images\n",
        "def test_runAll(batch_size=16):\n",
        "  def test_stitch(ip):\n",
        "    return (ip.map(val_image_preproc, num_parallel_calls=4).batch(batch_size)).map(image_sculpting)\n",
        "  return test_stitch"
      ],
      "execution_count": 0,
      "outputs": []
    },
    {
      "cell_type": "code",
      "metadata": {
        "id": "RysEpy4rgdaf",
        "colab_type": "code",
        "colab": {}
      },
      "source": [
        ""
      ],
      "execution_count": 0,
      "outputs": []
    },
    {
      "cell_type": "code",
      "metadata": {
        "id": "E8tRM4BCTVnL",
        "colab_type": "code",
        "colab": {}
      },
      "source": [
        "#Filters this dataset according to given subject\n",
        "def dataset_form(a,b):\n",
        "  return tf.data.Dataset.from_tensor_slices((a,b))\n",
        "\n",
        "#Providing directory where images are stored\n",
        "def train_data_preproc(curr):\n",
        "  address = (\"./input/train1/\"+curr['image']+\".jpeg\").values\n",
        "\n",
        "  #Joins the provided sequence along the new Axis\n",
        "  position_pile =  np.stack(curr['One'].values,0)\n",
        "  #Datatset formation\n",
        "  images = dataset_form(address,position_pile)\n",
        "  \n",
        "\n",
        "  batch_size = 32\n",
        "  #Running all the preprocessing steps\n",
        "  idg = runAll( batch_size = batch_size )\n",
        "  \n",
        "  #Forming dataset iterators\n",
        "  while 1:\n",
        "    shuffled_images = images.shuffle(address.shape[0]) #Shuffling of images   \n",
        "    dataset_temp = idg(shuffled_images).repeat()\n",
        "    iterator = dataset_temp.make_one_shot_iterator()\n",
        "    next_batch =iterator.get_next()\n",
        "    for i in range(max(df['path'].values.shape[0]//batch_size,1)):\n",
        "      yield K.get_session().run(next_batch)\n",
        "\n",
        "\n",
        "def test_data_preproc(test_curr):\n",
        "  address = (\"./input/train1/\"+test_curr['image']+\".jpeg\").values\n",
        "  position_pile =  np.stack(test_curr['One'].values,0) \n",
        "  images = dataset_form(address,position_pile)\n",
        "  batch_size = 32\n",
        "  test_idg = test_runAll( batch_size = batch_size ) \n",
        "\n",
        "  while 1:\n",
        "    shuffled_images = images.shuffle(address.shape[0]) #Shuffling of images\n",
        "    dataset_temp = test_idg(shuffled_images).repeat()\n",
        "    iterator = dataset_temp.make_one_shot_iterator()\n",
        "    next_batch =iterator.get_next()\n",
        "    for i in range(max(df['path'].values.shape[0]//batch_size,1)):\n",
        "      yield K.get_session().run(next_batch)\n",
        "    \n",
        "\n",
        "  \n",
        "\n",
        "\n"
      ],
      "execution_count": 0,
      "outputs": []
    },
    {
      "cell_type": "code",
      "metadata": {
        "id": "7KqkkTBKrUG0",
        "colab_type": "code",
        "colab": {}
      },
      "source": [
        ""
      ],
      "execution_count": 0,
      "outputs": []
    },
    {
      "cell_type": "code",
      "metadata": {
        "id": "Jeew4PoN1MCE",
        "colab_type": "code",
        "colab": {}
      },
      "source": [
        ""
      ],
      "execution_count": 0,
      "outputs": []
    },
    {
      "cell_type": "code",
      "metadata": {
        "id": "KT9Dt5kl9PbW",
        "colab_type": "code",
        "colab": {}
      },
      "source": [
        "#Calling all Above functions\n",
        "IMG_SIZE = (512, 512)\n",
        "x = train_data_preproc(train_X)\n",
        "y = test_data_preproc(test_data)"
      ],
      "execution_count": 0,
      "outputs": []
    },
    {
      "cell_type": "code",
      "metadata": {
        "id": "Crjnz56zdH97",
        "colab_type": "code",
        "colab": {}
      },
      "source": [
        "x_train, y_train = next(x)\n",
        "x_test, y_test = next(y)\n"
      ],
      "execution_count": 0,
      "outputs": []
    },
    {
      "cell_type": "code",
      "metadata": {
        "id": "lC5yQsYu2GVz",
        "colab_type": "code",
        "colab": {}
      },
      "source": [
        "#plots a single image\n",
        "# plt.title(\"level:\"+str(np.argmax(y_train[2])))\n",
        "# plt.imshow(np.clip(x_train*127+127, 0, 255)[2].astype(np.uint8))\n"
      ],
      "execution_count": 0,
      "outputs": []
    },
    {
      "cell_type": "markdown",
      "metadata": {
        "id": "zUGWOR4Q31qv",
        "colab_type": "text"
      },
      "source": [
        "##Convolutional Model along with VGG16,InceptionResNetV2,InceptionV3 as base networks"
      ]
    },
    {
      "cell_type": "code",
      "metadata": {
        "id": "ttgac8MOO0gv",
        "colab_type": "code",
        "colab": {}
      },
      "source": [
        "#input size\n",
        "first_layer = Input((512, 512, 3))\n",
        "def primary_model(model):\n",
        "  #Weight from imagenet are loaded and as include_top is set to false \n",
        "  x = model(input_shape =  (512, 512, 3), include_top = False, weights = 'imagenet')\n",
        "  x.trainable = False\n",
        "  return x(first_layer),x.get_output_shape_at(0)[-1]\n",
        "\n",
        "#Convolutional layers build on top on basic VGG / inception_V2 /Inception_V3 models\n",
        "def secondary_model(ch_s,dp_s):\n",
        "  k_size = (1,1)\n",
        "  lrelu = 0.1\n",
        "  x = Conv2D(64, kernel_size = k_size, padding = 'same',activation='relu')(Dropout(0.5)(BatchNormalization()(ch_s)))\n",
        "  x = Conv2D(16, kernel_size = k_size, padding = 'same')(x)\n",
        "  x = LeakyReLU(alpha=lrelu)(x)\n",
        "  x = Conv2D(8, kernel_size = k_size, padding = 'same')(x)\n",
        "  x = LeakyReLU(alpha=lrelu)(x)\n",
        "  x = Conv2D(1, kernel_size = k_size, padding = 'valid', activation = 'sigmoid')(x)\n",
        "  last = Conv2D(dp_s, kernel_size = k_size, padding = 'same', activation = 'linear', use_bias = False, weights = [np.ones((1, 1, 1, dp_s))])\n",
        "  last.trainable = False\n",
        "  x = last(x)\n",
        "  return x\n",
        "\n",
        "def Averaging(m,ch_s):\n",
        "  #Gives the Average of all the  feature maps ,independent of the size of the input.\n",
        "  GA1_layer = GlobalAveragePooling2D()(multiply([m, BatchNormalization()(ch_s)]))\n",
        "  GA2_layer = Dropout(0.25)(Lambda(lambda element: element[0]/element[1])([GA1_layer, GlobalAveragePooling2D()(m)]))\n",
        "  A3_layer = Dropout(0.25)(Dense(128, activation = 'relu')(GA2_layer))\n",
        "  #Final softmax layer \n",
        "  last_layer = Dense(5, activation = 'softmax')(A3_layer)\n",
        "  return last_layer\n",
        "\n",
        "def make_model(f_layer):\n",
        "  # Builds the MOdel\n",
        "  return Model(inputs = [first_layer], outputs = [f_layer])\n",
        "\n",
        "\n",
        "\n"
      ],
      "execution_count": 0,
      "outputs": []
    },
    {
      "cell_type": "code",
      "metadata": {
        "id": "rlV0oP6T5dX6",
        "colab_type": "code",
        "colab": {}
      },
      "source": [
        ""
      ],
      "execution_count": 0,
      "outputs": []
    },
    {
      "cell_type": "code",
      "metadata": {
        "id": "e2BjPAV8Py6P",
        "colab_type": "code",
        "colab": {}
      },
      "source": [
        "#Appends all the compiled models here for further comparing\n",
        "models = []\n",
        "list_model = [model1,model2,model3]\n",
        "for mods in list_model:\n",
        "  feat,depth = primary_model(mods)\n",
        "  mo = secondary_model(feat,depth)\n",
        "  fin = Averaging(mo,feat)\n",
        "  fin_model = make_model(fin)\n",
        "  fin_model.compile(loss = 'categorical_crossentropy',optimizer = 'adam', metrics = ['accuracy'])\n",
        "  models.append(fin_model)\n",
        "\n"
      ],
      "execution_count": 0,
      "outputs": []
    },
    {
      "cell_type": "code",
      "metadata": {
        "id": "uP4B__yFUEBZ",
        "colab_type": "code",
        "colab": {}
      },
      "source": [
        ""
      ],
      "execution_count": 0,
      "outputs": []
    },
    {
      "cell_type": "markdown",
      "metadata": {
        "id": "RdpxTKNOVh-T",
        "colab_type": "text"
      },
      "source": [
        "<h2>Training the compile Models along with the provided validation data for 25 Epochs.</h2>"
      ]
    },
    {
      "cell_type": "code",
      "metadata": {
        "id": "c1SuJ6ymRoTE",
        "colab_type": "code",
        "colab": {}
      },
      "source": [
        "vg_history = models[0].fit_generator(x, steps_per_epoch = 4 ,validation_data = y, validation_steps = 4 ,epochs = 25)\n",
        "v2_history = models[1].fit_generator(x, steps_per_epoch = 4 ,validation_data = y, validation_steps = 4 ,epochs = 25)\n",
        "v3_history = models[2].fit_generator(x, steps_per_epoch = 4 ,validation_data = y, validation_steps = 4 ,epochs = 25)"
      ],
      "execution_count": 0,
      "outputs": []
    },
    {
      "cell_type": "code",
      "metadata": {
        "id": "IGK5YXZ6V5PG",
        "colab_type": "code",
        "colab": {}
      },
      "source": [
        "# Saving the models so that it can be used laoded and used in the future.\n",
        "# from keras.models import load_model\n",
        "# models[0].save('vgg.h5')\n",
        "# models[1].save('v2.h5')\n",
        "# models[2].save('v3.h5')\n",
        "# model = load_model('v3.h5')"
      ],
      "execution_count": 0,
      "outputs": []
    },
    {
      "cell_type": "markdown",
      "metadata": {
        "id": "OFVo3fnbVvvL",
        "colab_type": "text"
      },
      "source": [
        "Saving the History objects for further use."
      ]
    },
    {
      "cell_type": "code",
      "metadata": {
        "id": "QZJqOUwlPGqO",
        "colab_type": "code",
        "colab": {}
      },
      "source": [
        "import json\n",
        "json.dump(vg_history.history, open('vg_history_fin', 'w'))\n",
        "json.dump(v2_history.history, open('v2_fin', 'w'))\n",
        "json.dump(v3_history.history, open('v3_fin', 'w'))"
      ],
      "execution_count": 0,
      "outputs": []
    },
    {
      "cell_type": "code",
      "metadata": {
        "id": "gbhAZbgb6uEQ",
        "colab_type": "code",
        "colab": {}
      },
      "source": [
        ""
      ],
      "execution_count": 0,
      "outputs": []
    },
    {
      "cell_type": "code",
      "metadata": {
        "id": "Ci9ZuUW1Wsvl",
        "colab_type": "code",
        "colab": {}
      },
      "source": [
        ""
      ],
      "execution_count": 0,
      "outputs": []
    }
  ]
}